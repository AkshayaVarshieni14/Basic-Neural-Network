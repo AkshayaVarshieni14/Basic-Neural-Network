{
  "nbformat": 4,
  "nbformat_minor": 0,
  "metadata": {
    "colab": {
      "provenance": []
    },
    "kernelspec": {
      "name": "python3",
      "display_name": "Python 3"
    },
    "language_info": {
      "name": "python"
    }
  },
  "cells": [
    {
      "cell_type": "code",
      "source": [
        "import tensorflow as tf\n",
        "from tensorflow.keras.datasets import mnist\n",
        "from tensorflow.keras.models import Sequential\n",
        "from tensorflow.keras.layers import Conv2D, MaxPooling2D, Flatten, Dense, Dropout\n",
        "from tensorflow.keras.optimizers import Adam\n",
        "from tensorflow.keras.callbacks import EarlyStopping, TensorBoard, ReduceLROnPlateau\n",
        "\n",
        "# Load MNIST dataset\n",
        "(x_train, y_train), (x_test, y_test) = mnist.load_data()\n",
        "\n",
        "# Normalize and preprocess the data\n",
        "x_train = x_train / 255.0\n",
        "x_test = x_test / 255.0\n",
        "\n",
        "# Reshape data for CNN (add a channel dimension)\n",
        "x_train = x_train.reshape(-1, 28, 28, 1)\n",
        "x_test = x_test.reshape(-1, 28, 28, 1)"
      ],
      "metadata": {
        "id": "STrTSVztjhqQ",
        "colab": {
          "base_uri": "https://localhost:8080/"
        },
        "outputId": "05c23dc3-d9bd-4ef7-c3f6-ced9302789a9"
      },
      "execution_count": 1,
      "outputs": [
        {
          "output_type": "stream",
          "name": "stdout",
          "text": [
            "Downloading data from https://storage.googleapis.com/tensorflow/tf-keras-datasets/mnist.npz\n",
            "11490434/11490434 [==============================] - 0s 0us/step\n"
          ]
        }
      ]
    },
    {
      "cell_type": "code",
      "source": [
        "# Build the model\n",
        "model = Sequential([\n",
        "    Conv2D(32, (3, 3), activation='relu', input_shape=(28, 28, 1)),\n",
        "    MaxPooling2D((2, 2)),\n",
        "    Conv2D(64, (3, 3), activation='relu'),\n",
        "    MaxPooling2D((2, 2)),\n",
        "    Flatten(),\n",
        "    Dense(128, activation='relu'),\n",
        "    Dropout(0.5),\n",
        "    Dense(10, activation='softmax')\n",
        "])\n",
        "\n",
        "# Compile the model\n",
        "model.compile(optimizer=Adam(learning_rate=1e-3),\n",
        "              loss='sparse_categorical_crossentropy',\n",
        "              metrics=['accuracy'])\n",
        "\n",
        "# Early stopping to prevent overfitting\n",
        "early_stopping = EarlyStopping(monitor='val_loss', patience=5, restore_best_weights=True)\n",
        "\n",
        "\n",
        "# Callbacks for TensorBoard and Learning Rate Reduction\n",
        "tensorboard_callback = TensorBoard(log_dir=\"./logs\", histogram_freq=1)\n",
        "reduce_lr_callback = ReduceLROnPlateau(monitor='val_loss', factor=0.2, patience=3, min_lr=0.0001)\n",
        "\n",
        "\n",
        "# Train the model\n",
        "model.fit(x_train, y_train, epochs=20, batch_size=10, validation_split=0.1,\n",
        "          callbacks=[tensorboard_callback, reduce_lr_callback, early_stopping])\n"
      ],
      "metadata": {
        "colab": {
          "base_uri": "https://localhost:8080/"
        },
        "id": "rom0lzNOltDI",
        "outputId": "62844f67-7a4e-4bf1-e052-d8893ac1a1d8"
      },
      "execution_count": 2,
      "outputs": [
        {
          "output_type": "stream",
          "name": "stdout",
          "text": [
            "Epoch 1/20\n",
            "5400/5400 [==============================] - 73s 13ms/step - loss: 0.1876 - accuracy: 0.9429 - val_loss: 0.0381 - val_accuracy: 0.9900 - lr: 0.0010\n",
            "Epoch 2/20\n",
            "5400/5400 [==============================] - 70s 13ms/step - loss: 0.0770 - accuracy: 0.9768 - val_loss: 0.0368 - val_accuracy: 0.9890 - lr: 0.0010\n",
            "Epoch 3/20\n",
            "5400/5400 [==============================] - 69s 13ms/step - loss: 0.0590 - accuracy: 0.9827 - val_loss: 0.0333 - val_accuracy: 0.9892 - lr: 0.0010\n",
            "Epoch 4/20\n",
            "5400/5400 [==============================] - 71s 13ms/step - loss: 0.0453 - accuracy: 0.9864 - val_loss: 0.0383 - val_accuracy: 0.9907 - lr: 0.0010\n",
            "Epoch 5/20\n",
            "5400/5400 [==============================] - 67s 12ms/step - loss: 0.0401 - accuracy: 0.9880 - val_loss: 0.0336 - val_accuracy: 0.9917 - lr: 0.0010\n",
            "Epoch 6/20\n",
            "5400/5400 [==============================] - 66s 12ms/step - loss: 0.0331 - accuracy: 0.9901 - val_loss: 0.0369 - val_accuracy: 0.9927 - lr: 0.0010\n",
            "Epoch 7/20\n",
            "5400/5400 [==============================] - 67s 12ms/step - loss: 0.0174 - accuracy: 0.9946 - val_loss: 0.0304 - val_accuracy: 0.9930 - lr: 2.0000e-04\n",
            "Epoch 8/20\n",
            "5400/5400 [==============================] - 67s 12ms/step - loss: 0.0129 - accuracy: 0.9961 - val_loss: 0.0345 - val_accuracy: 0.9933 - lr: 2.0000e-04\n",
            "Epoch 9/20\n",
            "5400/5400 [==============================] - 66s 12ms/step - loss: 0.0108 - accuracy: 0.9965 - val_loss: 0.0337 - val_accuracy: 0.9937 - lr: 2.0000e-04\n",
            "Epoch 10/20\n",
            "5400/5400 [==============================] - 66s 12ms/step - loss: 0.0089 - accuracy: 0.9968 - val_loss: 0.0366 - val_accuracy: 0.9930 - lr: 2.0000e-04\n",
            "Epoch 11/20\n",
            "5400/5400 [==============================] - 66s 12ms/step - loss: 0.0072 - accuracy: 0.9975 - val_loss: 0.0367 - val_accuracy: 0.9943 - lr: 1.0000e-04\n",
            "Epoch 12/20\n",
            "5400/5400 [==============================] - 65s 12ms/step - loss: 0.0072 - accuracy: 0.9975 - val_loss: 0.0372 - val_accuracy: 0.9943 - lr: 1.0000e-04\n"
          ]
        },
        {
          "output_type": "execute_result",
          "data": {
            "text/plain": [
              "<keras.src.callbacks.History at 0x7bc22d6e56f0>"
            ]
          },
          "metadata": {},
          "execution_count": 2
        }
      ]
    },
    {
      "cell_type": "code",
      "source": [
        "# Evaluate the model on test data\n",
        "test_loss, test_accuracy = model.evaluate(x_test, y_test)\n",
        "print(\"Test accuracy:\", test_accuracy)"
      ],
      "metadata": {
        "colab": {
          "base_uri": "https://localhost:8080/"
        },
        "id": "27c3-tJJmo4v",
        "outputId": "6f2228a1-bdca-490b-b3a9-194a5c8ad161"
      },
      "execution_count": 3,
      "outputs": [
        {
          "output_type": "stream",
          "name": "stdout",
          "text": [
            "313/313 [==============================] - 4s 11ms/step - loss: 0.0237 - accuracy: 0.9935\n",
            "Test accuracy: 0.9934999942779541\n"
          ]
        }
      ]
    }
  ]
}